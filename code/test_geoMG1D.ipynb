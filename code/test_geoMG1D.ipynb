{
 "cells": [
  {
   "cell_type": "code",
   "execution_count": 1,
   "metadata": {},
   "outputs": [],
   "source": [
    "%load_ext autoreload\n",
    "%autoreload 2\n",
    "from geometricMultiGrid1D import *\n",
    "from constructions import *\n",
    "from plt_utils import *\n",
    "from scipy.sparse import diags\n",
    "import numpy as np\n",
    "from functools import partial\n",
    "import matplotlib.pyplot as plt\n",
    "from scipy.linalg import norm"
   ]
  },
  {
   "cell_type": "markdown",
   "metadata": {},
   "source": [
    "# test relax"
   ]
  },
  {
   "cell_type": "code",
   "execution_count": 2,
   "metadata": {},
   "outputs": [
    {
     "name": "stderr",
     "output_type": "stream",
     "text": [
      "C:\\Users\\isido\\AppData\\Local\\Packages\\PythonSoftwareFoundation.Python.3.10_qbz5n2kfra8p0\\LocalCache\\local-packages\\Python310\\site-packages\\scipy\\sparse\\linalg\\_dsolve\\linsolve.py:168: SparseEfficiencyWarning: spsolve requires A be CSC or CSR matrix format\n",
      "  warn('spsolve requires A be CSC or CSR matrix format',\n",
      "C:\\Users\\isido\\AppData\\Local\\Packages\\PythonSoftwareFoundation.Python.3.10_qbz5n2kfra8p0\\LocalCache\\local-packages\\Python310\\site-packages\\scipy\\sparse\\linalg\\_dsolve\\linsolve.py:239: SparseEfficiencyWarning: spsolve is more efficient when sparse b is in the CSC matrix format\n",
      "  warn('spsolve is more efficient when sparse b '\n"
     ]
    },
    {
     "data": {
      "application/vnd.jupyter.widget-view+json": {
       "model_id": "0098cadd980b4d6eaa8e8d783e5bbe55",
       "version_major": 2,
       "version_minor": 0
      },
      "text/plain": [
       "interactive(children=(IntSlider(value=0, description='i', max=1), Output()), _dom_classes=('widget-interact',)…"
      ]
     },
     "metadata": {},
     "output_type": "display_data"
    },
    {
     "data": {
      "text/plain": [
       "<function plt_utils.plt_vecs.<locals>.tmp(i)>"
      ]
     },
     "metadata": {},
     "output_type": "display_data"
    },
    {
     "data": {
      "application/vnd.jupyter.widget-view+json": {
       "model_id": "d0887ffe002143d99c3a752a4bf6a8c6",
       "version_major": 2,
       "version_minor": 0
      },
      "text/plain": [
       "interactive(children=(IntSlider(value=0, description='i', max=60), Output()), _dom_classes=('widget-interact',…"
      ]
     },
     "metadata": {},
     "output_type": "display_data"
    },
    {
     "data": {
      "text/plain": [
       "<function plt_utils.plt_vecs.<locals>.tmp(i)>"
      ]
     },
     "metadata": {},
     "output_type": "display_data"
    }
   ],
   "source": [
    "def test_relax_solving(relax,n,iterations):\n",
    "    A = diags([-1, 4, -1], [-1, 0, 1], shape=(n, n))\n",
    "    f = np.array(range(n))\n",
    "    u =  np.zeros(n)\n",
    "    for _ in range(iterations):\n",
    "        u = relax(A, f, u)\n",
    "    usol = spsolve(A,f) \n",
    "    plt_vecs([u-usol,u],[\"error\",\"sol\"])\n",
    "\n",
    "def test_relax_smoothing(relax,n,iterations):\n",
    "    A = diags([-1, 4, -1], [-1, 0, 1], shape=(n, n))\n",
    "    f = np.array(range(n))\n",
    "    usol = spsolve(A,f) \n",
    "    u =  20*wave_basis_1D(n+1,n//2)\n",
    "    errors = [u-usol]\n",
    "    for _ in range(iterations):\n",
    "        u = relax(A, f, u)\n",
    "        errors.append(u-usol)\n",
    "    plt_vecs(errors,[\"error\"]*len(errors))\n",
    "\n",
    "omega = 2/3\n",
    "test_relax_solving(partial(wjacobi,omega=omega),n=20,iterations=60)\n",
    "test_relax_smoothing(partial(wjacobi,omega=omega),n=20,iterations=60)\n"
   ]
  },
  {
   "cell_type": "markdown",
   "metadata": {},
   "source": [
    "# test interpolate and restrict"
   ]
  },
  {
   "cell_type": "code",
   "execution_count": 3,
   "metadata": {},
   "outputs": [
    {
     "data": {
      "application/vnd.jupyter.widget-view+json": {
       "model_id": "2819dc9e0f084f46a19fef17739f15ca",
       "version_major": 2,
       "version_minor": 0
      },
      "text/plain": [
       "interactive(children=(IntSlider(value=0, description='i', max=7), Output()), _dom_classes=('widget-interact',)…"
      ]
     },
     "metadata": {},
     "output_type": "display_data"
    },
    {
     "data": {
      "text/plain": [
       "<function plt_utils.plt_vecs.<locals>.tmp(i)>"
      ]
     },
     "metadata": {},
     "output_type": "display_data"
    }
   ],
   "source": [
    "import numpy as np\n",
    "def test_recursive_restriction(k,v,restrict):\n",
    "    vecs= [v]\n",
    "    for _ in range(k):\n",
    "        try:\n",
    "            v = restrict(v)\n",
    "        except:\n",
    "            break\n",
    "        vecs.append(v)\n",
    "    plt_vecs(vecs)\n",
    "\n",
    "test_recursive_restriction(7,wave_basis_1D(2**8,5),simple_restrict)\n"
   ]
  },
  {
   "cell_type": "code",
   "execution_count": 4,
   "metadata": {},
   "outputs": [
    {
     "data": {
      "application/vnd.jupyter.widget-view+json": {
       "model_id": "d72ac63ba9344890bd64f35211a8cc95",
       "version_major": 2,
       "version_minor": 0
      },
      "text/plain": [
       "interactive(children=(IntSlider(value=0, description='i', max=49), Output()), _dom_classes=('widget-interact',…"
      ]
     },
     "metadata": {},
     "output_type": "display_data"
    },
    {
     "data": {
      "text/plain": [
       "<function plt_utils.plt_vecs.<locals>.tmp(i)>"
      ]
     },
     "metadata": {},
     "output_type": "display_data"
    },
    {
     "data": {
      "image/png": "[encoded data removed]",
      "text/plain": [
       "<Figure size 640x480 with 1 Axes>"
      ]
     },
     "metadata": {},
     "output_type": "display_data"
    }
   ],
   "source": [
    "def test_interpolate_restrict_error(n,interpolate,restrict):\n",
    "    wbasis_1D = [wave_basis_1D(n,k) for k in range(n)]\n",
    "    vecs = [interpolate(restrict(v))-v for v in wbasis_1D ]\n",
    "    norms = [norm(v)/norm(w) for v,w in zip(vecs,wbasis_1D) if norm(w)>0 ]  \n",
    "    plt_vecs(vecs,[\"interpolate restrict error\"]*len(vecs))\n",
    "    plt.plot(range(len(norms)),norms)\n",
    "    plt.title(\"interpolate restrict %norm error vs wave basis 1D\")\n",
    "    plt.show()\n",
    "\n",
    "test_interpolate_restrict_error(50,simple_interpolate,simple_restrict)"
   ]
  },
  {
   "cell_type": "markdown",
   "metadata": {},
   "source": [
    "# test Vcycles"
   ]
  },
  {
   "cell_type": "code",
   "execution_count": 5,
   "metadata": {},
   "outputs": [
    {
     "data": {
      "application/vnd.jupyter.widget-view+json": {
       "model_id": "72ea52cd15824290b6414343d0399175",
       "version_major": 2,
       "version_minor": 0
      },
      "text/plain": [
       "interactive(children=(IntSlider(value=0, description='i', max=5), Output()), _dom_classes=('widget-interact',)…"
      ]
     },
     "metadata": {},
     "output_type": "display_data"
    },
    {
     "data": {
      "text/plain": [
       "<function plt_utils.plt_vecs.<locals>.tmp(i)>"
      ]
     },
     "metadata": {},
     "output_type": "display_data"
    }
   ],
   "source": [
    "from functools import lru_cache\n",
    "def laplace_test(n=32,iterations=1,recursion_depth=3):\n",
    "    A = helmholtz1D(n,0)\n",
    "    u_exact = wave_basis_1D(n,1)\n",
    "    f = A @ u_exact \n",
    "    # plt_vec(f)\n",
    "    u_approx = np.zeros(n-1)\n",
    "\n",
    "    errors = [u_exact-u_approx] \n",
    "    # Solve using the V-cycle method\n",
    "    for _ in range(iterations):\n",
    "        u_approx = geoVcycle1D(\n",
    "            mat = lru_cache(recursion_depth*2)(partial(helmholtz1D,sigma=0)), \n",
    "            f= f, \n",
    "            u = u_approx, \n",
    "            nu1=1,\n",
    "            nu2=1,\n",
    "            relax=partial(wjacobi,omega= 2/3), \n",
    "            restrict=simple_restrict, \n",
    "            interpolate=simple_interpolate, \n",
    "            recursion_depth=recursion_depth)\n",
    "        errors.append(u_exact-u_approx)\n",
    "    plt_vecs(errors,[f\"errors after {j} vcycles\" for j in range(len(errors))]) \n",
    "    \n",
    "laplace_test(2**8,5,7)"
   ]
  }
 ],
 "metadata": {
  "kernelspec": {
   "display_name": "Python 3",
   "language": "python",
   "name": "python3"
  },
  "language_info": {
   "codemirror_mode": {
    "name": "ipython",
    "version": 3
   },
   "file_extension": ".py",
   "mimetype": "text/x-python",
   "name": "python",
   "nbconvert_exporter": "python",
   "pygments_lexer": "ipython3",
   "version": "3.10.11"
  }
 },
 "nbformat": 4,
 "nbformat_minor": 2
}
