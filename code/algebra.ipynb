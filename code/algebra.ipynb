{
 "cells": [
  {
   "cell_type": "code",
   "execution_count": 26,
   "metadata": {},
   "outputs": [
    {
     "name": "stdout",
     "output_type": "stream",
     "text": [
      "----critical points----\n"
     ]
    },
    {
     "data": {
      "text/latex": [
       "$\\displaystyle G (0 )= \\frac{4 n^{4} - 4 n^{2} \\omega \\sigma_{r} + 4 n^{2} \\sigma_{r} + \\omega^{2} \\sigma_{\\left|{i}\\right|}^{2} + \\omega^{2} \\sigma_{r}^{2} - 2 \\omega \\sigma_{\\left|{i}\\right|}^{2} - 2 \\omega \\sigma_{r}^{2} + \\sigma_{\\left|{i}\\right|}^{2} + \\sigma_{r}^{2}}{4 n^{4} + 4 n^{2} \\sigma_{r} + \\sigma_{\\left|{i}\\right|}^{2} + \\sigma_{r}^{2}}$"
      ],
      "text/plain": [
       "<IPython.core.display.Math object>"
      ]
     },
     "metadata": {},
     "output_type": "display_data"
    },
    {
     "data": {
      "text/latex": [
       "$\\displaystyle G (\\pi )= \\frac{16 n^{4} \\omega^{2} - 16 n^{4} \\omega + 4 n^{4} + 8 n^{2} \\omega^{2} \\sigma_{r} - 12 n^{2} \\omega \\sigma_{r} + 4 n^{2} \\sigma_{r} + \\omega^{2} \\sigma_{\\left|{i}\\right|}^{2} + \\omega^{2} \\sigma_{r}^{2} - 2 \\omega \\sigma_{\\left|{i}\\right|}^{2} - 2 \\omega \\sigma_{r}^{2} + \\sigma_{\\left|{i}\\right|}^{2} + \\sigma_{r}^{2}}{4 n^{4} + 4 n^{2} \\sigma_{r} + \\sigma_{\\left|{i}\\right|}^{2} + \\sigma_{r}^{2}}$"
      ],
      "text/plain": [
       "<IPython.core.display.Math object>"
      ]
     },
     "metadata": {},
     "output_type": "display_data"
    },
    {
     "data": {
      "text/latex": [
       "$\\displaystyle G (- \\operatorname{acos}{\\left(\\frac{\\left(2 n^{2} + \\sigma_{r}\\right) \\left(\\omega - 1\\right)}{2 n^{2} \\omega} \\right)} + 2 \\pi )= \\frac{\\sigma_{\\left|{i}\\right|}^{2} \\left(\\omega - 1\\right)^{2}}{4 n^{4} + 4 n^{2} \\sigma_{r} + \\sigma_{\\left|{i}\\right|}^{2} + \\sigma_{r}^{2}}$"
      ],
      "text/plain": [
       "<IPython.core.display.Math object>"
      ]
     },
     "metadata": {},
     "output_type": "display_data"
    },
    {
     "data": {
      "text/latex": [
       "$\\displaystyle G (\\operatorname{acos}{\\left(\\frac{\\left(2 n^{2} + \\sigma_{r}\\right) \\left(\\omega - 1\\right)}{2 n^{2} \\omega} \\right)} )= \\frac{\\sigma_{\\left|{i}\\right|}^{2} \\left(\\omega - 1\\right)^{2}}{4 n^{4} + 4 n^{2} \\sigma_{r} + \\sigma_{\\left|{i}\\right|}^{2} + \\sigma_{r}^{2}}$"
      ],
      "text/plain": [
       "<IPython.core.display.Math object>"
      ]
     },
     "metadata": {},
     "output_type": "display_data"
    },
    {
     "data": {
      "text/latex": [
       "$\\displaystyle G (\\frac{\\pi}{2} )= \\left(\\omega - 1\\right)^{2}$"
      ],
      "text/plain": [
       "<IPython.core.display.Math object>"
      ]
     },
     "metadata": {},
     "output_type": "display_data"
    }
   ],
   "source": [
    "from sympy import symbols, cos, diff, solve, Abs, I,latex, pi\n",
    "from IPython.display import display, Math\n",
    "\n",
    "omega, sigma_r, theta, n = symbols('omega sigma_r theta n', real=True)\n",
    "sigma = sigma_r + I * symbols('sigma_imag', real=True)  # sigma is complex\n",
    "\n",
    "G = 1 - omega + 2 * cos(theta) * (omega * n**2) / (2 * n**2 + sigma)\n",
    "\n",
    "modulus_expr = Abs(G)**2\n",
    "derivative = diff(modulus_expr, theta).simplify()\n",
    "critical_points = solve(derivative, theta)\n",
    "critical_points.append(pi/2)\n",
    "critical_points = [p.simplify() for p in critical_points]\n",
    "modulus_at_critical_points = [modulus_expr.subs(theta, point).simplify().factor() for point in critical_points]\n",
    "\n",
    "print(f\"----critical points----\")\n",
    "for t, expr in zip(critical_points,modulus_at_critical_points):\n",
    "    display(Math(f\"G ({latex(t)} )= {latex(expr)}\"))"
   ]
  },
  {
   "cell_type": "code",
   "execution_count": 21,
   "metadata": {},
   "outputs": [
    {
     "data": {
      "text/latex": [
       "$\\displaystyle \\frac{16 n^{4} \\omega^{2} - 16 n^{4} \\omega + 4 n^{4} + 8 n^{2} \\omega^{2} \\sigma_{r} - 12 n^{2} \\omega \\sigma_{r} + 4 n^{2} \\sigma_{r} + \\omega^{2} \\sigma_{\\left|{i}\\right|}^{2} + \\omega^{2} \\sigma_{r}^{2} - 2 \\omega \\sigma_{\\left|{i}\\right|}^{2} - 2 \\omega \\sigma_{r}^{2} + \\sigma_{\\left|{i}\\right|}^{2} + \\sigma_{r}^{2}}{4 n^{4} - 4 n^{2} \\omega \\sigma_{r} + 4 n^{2} \\sigma_{r} + \\omega^{2} \\sigma_{\\left|{i}\\right|}^{2} + \\omega^{2} \\sigma_{r}^{2} - 2 \\omega \\sigma_{\\left|{i}\\right|}^{2} - 2 \\omega \\sigma_{r}^{2} + \\sigma_{\\left|{i}\\right|}^{2} + \\sigma_{r}^{2}}$"
      ],
      "text/plain": [
       "<IPython.core.display.Math object>"
      ]
     },
     "metadata": {},
     "output_type": "display_data"
    }
   ],
   "source": [
    "l = modulus_at_critical_points[1]/modulus_at_critical_points[0]\n",
    "display(Math(latex(l.factor())))"
   ]
  }
 ],
 "metadata": {
  "kernelspec": {
   "display_name": "Python 3",
   "language": "python",
   "name": "python3"
  },
  "language_info": {
   "codemirror_mode": {
    "name": "ipython",
    "version": 3
   },
   "file_extension": ".py",
   "mimetype": "text/x-python",
   "name": "python",
   "nbconvert_exporter": "python",
   "pygments_lexer": "ipython3",
   "version": "3.10.11"
  }
 },
 "nbformat": 4,
 "nbformat_minor": 2
}
