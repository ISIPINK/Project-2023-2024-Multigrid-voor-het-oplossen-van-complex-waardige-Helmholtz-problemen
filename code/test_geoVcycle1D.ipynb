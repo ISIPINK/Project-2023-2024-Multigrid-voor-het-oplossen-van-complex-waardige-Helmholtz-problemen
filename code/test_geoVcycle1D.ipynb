{
 "cells": [
  {
   "cell_type": "code",
   "execution_count": 41,
   "metadata": {},
   "outputs": [
    {
     "name": "stdout",
     "output_type": "stream",
     "text": [
      "The autoreload extension is already loaded. To reload it, use:\n",
      "  %reload_ext autoreload\n"
     ]
    }
   ],
   "source": [
    "%load_ext autoreload\n",
    "%autoreload 2"
   ]
  },
  {
   "cell_type": "code",
   "execution_count": 72,
   "metadata": {},
   "outputs": [
    {
     "name": "stderr",
     "output_type": "stream",
     "text": [
      "C:\\Users\\isido\\AppData\\Local\\Packages\\PythonSoftwareFoundation.Python.3.10_qbz5n2kfra8p0\\LocalCache\\local-packages\\Python310\\site-packages\\scipy\\sparse\\linalg\\_dsolve\\linsolve.py:168: SparseEfficiencyWarning: spsolve requires A be CSC or CSR matrix format\n",
      "  warn('spsolve requires A be CSC or CSR matrix format',\n",
      "C:\\Users\\isido\\AppData\\Local\\Packages\\PythonSoftwareFoundation.Python.3.10_qbz5n2kfra8p0\\LocalCache\\local-packages\\Python310\\site-packages\\scipy\\sparse\\linalg\\_dsolve\\linsolve.py:239: SparseEfficiencyWarning: spsolve is more efficient when sparse b is in the CSC matrix format\n",
      "  warn('spsolve is more efficient when sparse b '\n"
     ]
    },
    {
     "data": {
      "application/vnd.jupyter.widget-view+json": {
       "model_id": "161aef0bdb774e43aebfd5d5ddd727b7",
       "version_major": 2,
       "version_minor": 0
      },
      "text/plain": [
       "interactive(children=(IntSlider(value=0, description='i', max=1), Output()), _dom_classes=('widget-interact',)…"
      ]
     },
     "metadata": {},
     "output_type": "display_data"
    },
    {
     "data": {
      "text/plain": [
       "<function plt_utils.plt_vecs.<locals>.tmp(i)>"
      ]
     },
     "metadata": {},
     "output_type": "display_data"
    },
    {
     "data": {
      "application/vnd.jupyter.widget-view+json": {
       "model_id": "d34a8329bf0c443b8f60ae1a3397a42f",
       "version_major": 2,
       "version_minor": 0
      },
      "text/plain": [
       "interactive(children=(IntSlider(value=0, description='i', max=60), Output()), _dom_classes=('widget-interact',…"
      ]
     },
     "metadata": {},
     "output_type": "display_data"
    },
    {
     "data": {
      "text/plain": [
       "<function plt_utils.plt_vecs.<locals>.tmp(i)>"
      ]
     },
     "metadata": {},
     "output_type": "display_data"
    }
   ],
   "source": [
    "from geometricVcycle1D import *\n",
    "from plt_utils import *\n",
    "from scipy.sparse import diags\n",
    "import numpy as np\n",
    "from functools import partial\n",
    "\n",
    "def test_relax_solving(relax,n,iterations):\n",
    "    A = diags([-1, 4, -1], [-1, 0, 1], shape=(n, n))\n",
    "    f = np.array(range(n))\n",
    "    u =  np.zeros(n)\n",
    "    for _ in range(iterations):\n",
    "        u = relax(A, f, u)\n",
    "    usol = spsolve(A,f) \n",
    "    plt_vecs([u-usol,u],[\"error\",\"sol\"])\n",
    "\n",
    "def test_relax_smoothing(relax,n,iterations):\n",
    "    A = diags([-1, 4, -1], [-1, 0, 1], shape=(n, n))\n",
    "    f = np.array(range(n))\n",
    "    usol = spsolve(A,f) \n",
    "    u =  20*np.array([np.sin(j*np.pi/2) for j in range(n)])\n",
    "    errors = [u-usol]\n",
    "    for _ in range(iterations):\n",
    "        u = relax(A, f, u)\n",
    "        errors.append(u-usol)\n",
    "    plt_vecs(errors,[\"error\"]*len(errors))\n",
    "\n",
    "omega = 2/3\n",
    "test_relax_solving(partial(wjacobi,omega=omega),n=20,iterations=60)\n",
    "test_relax_smoothing(partial(wjacobi,omega=omega),n=20,iterations=60)\n"
   ]
  }
 ],
 "metadata": {
  "kernelspec": {
   "display_name": "Python 3",
   "language": "python",
   "name": "python3"
  },
  "language_info": {
   "codemirror_mode": {
    "name": "ipython",
    "version": 3
   },
   "file_extension": ".py",
   "mimetype": "text/x-python",
   "name": "python",
   "nbconvert_exporter": "python",
   "pygments_lexer": "ipython3",
   "version": "3.10.11"
  }
 },
 "nbformat": 4,
 "nbformat_minor": 2
}
